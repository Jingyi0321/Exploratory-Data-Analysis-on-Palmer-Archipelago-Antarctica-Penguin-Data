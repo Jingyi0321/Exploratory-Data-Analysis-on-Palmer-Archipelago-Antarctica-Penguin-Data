{
  "nbformat": 4,
  "nbformat_minor": 0,
  "metadata": {
    "colab": {
      "name": "EDA_Fang_Jingyi .ipynb",
      "provenance": [],
      "collapsed_sections": [],
      "toc_visible": true
    },
    "kernelspec": {
      "display_name": "Python 3",
      "name": "python3"
    }
  },
  "cells": [
    {
      "cell_type": "markdown",
      "metadata": {
        "id": "J-xskkVGn-a6"
      },
      "source": [
        "#**Link to medium:** https://allysonf.medium.com/exploratory-data-analysis-on-palmer-archipelago-antarctica-penguin-data-41ff3e6efeda"
      ]
    },
    {
      "cell_type": "markdown",
      "metadata": {
        "id": "mpq-CiZARbDO"
      },
      "source": [
        "# Exploratory Data Analysis on Palmer Archipelago (Antarctica) Penguin Data\n"
      ]
    },
    {
      "cell_type": "code",
      "metadata": {
        "id": "dYuK9mFFKPzt"
      },
      "source": [
        "import pandas as pd\n",
        "import numpy as np\n",
        "import matplotlib.pyplot as plt"
      ],
      "execution_count": null,
      "outputs": []
    },
    {
      "cell_type": "markdown",
      "metadata": {
        "id": "hkTFCqFIRXWe"
      },
      "source": [
        "## Import the data:"
      ]
    },
    {
      "cell_type": "code",
      "metadata": {
        "id": "iwNYBe0HOVX5"
      },
      "source": [
        "df = pd.read_csv(\"penguins_size.csv\")"
      ],
      "execution_count": null,
      "outputs": []
    },
    {
      "cell_type": "markdown",
      "metadata": {
        "id": "8h4Jm6sQcwCd"
      },
      "source": [
        "Let's give our data a first look!"
      ]
    },
    {
      "cell_type": "code",
      "metadata": {
        "id": "ThsAxnKV4chY"
      },
      "source": [
        "df.shape"
      ],
      "execution_count": null,
      "outputs": []
    },
    {
      "cell_type": "code",
      "metadata": {
        "id": "Vm8Kxr1qSSVI"
      },
      "source": [
        "df.info()"
      ],
      "execution_count": null,
      "outputs": []
    },
    {
      "cell_type": "code",
      "metadata": {
        "id": "QxA6q7Rscu80"
      },
      "source": [
        "df.head()"
      ],
      "execution_count": null,
      "outputs": []
    },
    {
      "cell_type": "markdown",
      "metadata": {
        "id": "vuKc6CxhQ5eI"
      },
      "source": [
        "## Data Wrangling:"
      ]
    },
    {
      "cell_type": "markdown",
      "metadata": {
        "id": "0Z6KCwGCQFKO"
      },
      "source": [
        "Deal with **missing values**:"
      ]
    },
    {
      "cell_type": "code",
      "metadata": {
        "id": "ELMvNgOFQEiv"
      },
      "source": [
        "df.isnull().sum() #out of 7 columns, 5 columns have missing data "
      ],
      "execution_count": null,
      "outputs": []
    },
    {
      "cell_type": "markdown",
      "metadata": {
        "id": "EsmtEs5RuNvY"
      },
      "source": [
        "Use sklearn.impute.SimpleImputer to replace missing data:"
      ]
    },
    {
      "cell_type": "code",
      "metadata": {
        "id": "3IGPt_LbUaiF"
      },
      "source": [
        "from sklearn.impute import SimpleImputer \n",
        "replace_data = SimpleImputer(missing_values=np.nan,strategy = \"most_frequent\") \n",
        "# \"most frequent\" strategy replaces missing data by using the most frequent value along each column\n",
        "df.iloc[:,:] = replace_data.fit_transform(df)\n",
        "#fit replace data to all rows in df, and return a transformed version of all rows in df"
      ],
      "execution_count": null,
      "outputs": []
    },
    {
      "cell_type": "markdown",
      "metadata": {
        "id": "pIK0vyygWDjR"
      },
      "source": [
        "Check to see if any missing data remains...\n",
        "\n"
      ]
    },
    {
      "cell_type": "code",
      "metadata": {
        "id": "rcD3n1FqV5I6"
      },
      "source": [
        "df.isnull().sum() #no missing data, good!"
      ],
      "execution_count": null,
      "outputs": []
    },
    {
      "cell_type": "markdown",
      "metadata": {
        "id": "pxG2BM1_cm-F"
      },
      "source": [
        "## Visual Data Analysis:"
      ]
    },
    {
      "cell_type": "markdown",
      "metadata": {
        "id": "22ttCm9jx5Hv"
      },
      "source": [
        "###Culmen Depth and Culmen Length for Species:"
      ]
    },
    {
      "cell_type": "markdown",
      "metadata": {
        "id": "65VvkTp3htiX"
      },
      "source": [
        "Now, Let's investigate our first inquiry: \n",
        "For every species of penguin, is there any correlation between its culmen depth and culmen length? "
      ]
    },
    {
      "cell_type": "markdown",
      "metadata": {
        "id": "XlaaZxm2dOHz"
      },
      "source": [
        "First, let's see how many penguins we have for each species!"
      ]
    },
    {
      "cell_type": "code",
      "metadata": {
        "id": "39NjeB1JcqFJ"
      },
      "source": [
        "print(df.species.unique()) \n",
        "print(df.value_counts(subset = df.species))"
      ],
      "execution_count": null,
      "outputs": []
    },
    {
      "cell_type": "markdown",
      "metadata": {
        "id": "OTZ9kuc6hEPH"
      },
      "source": [
        "Notice that the sample size varies for each species. In order to **avoid any over or under sampling problem**, I adopted **simple random sampling** for each species to balance the data set. \n"
      ]
    },
    {
      "cell_type": "code",
      "metadata": {
        "id": "2sLJbmRJplxX"
      },
      "source": [
        "#simple random sampling\n",
        "import random\n",
        "random.seed(234)\n",
        "df_adelie = df[df.species == \"Adelie\"].sample(n = 50)\n",
        "df_chinstrap = df[df.species == \"Chinstrap\"].sample(n = 50)\n",
        "df_gentoo = df[df.species == \"Gentoo\"].sample(n = 50)"
      ],
      "execution_count": null,
      "outputs": []
    },
    {
      "cell_type": "markdown",
      "metadata": {
        "id": "NTeRV__Lz_9_"
      },
      "source": [
        "Draw a **scatter plot** for each species:"
      ]
    },
    {
      "cell_type": "code",
      "metadata": {
        "id": "S266_Io9hlF0"
      },
      "source": [
        "plt.figure(figsize=(8,8))\n",
        "#scatter plot\n",
        "plt.scatter(df_adelie.culmen_depth_mm, df_adelie.culmen_length_mm, marker ='o', color = 'r', alpha = 0.5, label = \"Adelie\")\n",
        "plt.scatter(df_chinstrap.culmen_depth_mm, df_chinstrap.culmen_length_mm, marker ='o', color = 'g', alpha = 0.5, label = \"Chinstrap\")\n",
        "plt.scatter(df_gentoo.culmen_depth_mm, df_gentoo.culmen_length_mm, marker ='o', color = 'y', alpha = 0.5, label = \"Gentoo\")\n",
        "#add axis and title\n",
        "plt.xlabel('Culmen Depth (mm)')\n",
        "plt.ylabel('Culmen Length (mm)')\n",
        "plt.title('Culmen Depth v.s Culmen Length for Three Species of Penguins')\n",
        "#fit a best-fitting line\n",
        "m, b = np.polyfit(df_adelie.culmen_depth_mm, df_adelie.culmen_length_mm, 1)\n",
        "plt.plot(df_adelie.culmen_depth_mm, m*df_adelie.culmen_depth_mm + b)\n",
        "m, b = np.polyfit(df_chinstrap.culmen_depth_mm, df_chinstrap.culmen_length_mm, 1)\n",
        "plt.plot(df_chinstrap.culmen_depth_mm, m*df_chinstrap.culmen_depth_mm + b)\n",
        "m, b = np.polyfit(df_gentoo.culmen_depth_mm, df_gentoo.culmen_length_mm, 1)\n",
        "plt.plot(df_gentoo.culmen_depth_mm, m*df_gentoo.culmen_depth_mm + b)\n",
        "#add legend and grid\n",
        "plt.legend()\n",
        "plt.grid()\n",
        "plt.show()"
      ],
      "execution_count": null,
      "outputs": []
    },
    {
      "cell_type": "markdown",
      "metadata": {
        "id": "-ocUEjYs4qvf"
      },
      "source": [
        "Calculate the correlation between culmen depth and culmen length for three species:\n",
        "\n"
      ]
    },
    {
      "cell_type": "code",
      "metadata": {
        "id": "uZUo3FZqtUBr"
      },
      "source": [
        "adelie_corr = round(df_adelie.culmen_depth_mm.corr(df_adelie.culmen_length_mm),3)\n",
        "chinstrap_corr = round(df_chinstrap.culmen_depth_mm.corr(df_chinstrap.culmen_length_mm),3)\n",
        "gentoo_corr = round(df_gentoo.culmen_depth_mm.corr(df_gentoo.culmen_length_mm),3)\n",
        "print(adelie_corr, chinstrap_corr, gentoo_corr)"
      ],
      "execution_count": null,
      "outputs": []
    },
    {
      "cell_type": "markdown",
      "metadata": {
        "id": "lOe-M6Cf4Yss"
      },
      "source": [
        "There exists a **weak positive** correlation between culmen depth and culmen length for all three species"
      ]
    },
    {
      "cell_type": "markdown",
      "metadata": {
        "id": "miMv7GIiNflE"
      },
      "source": [
        "What about if we combine the species? Does this weak positive correlation remain? "
      ]
    },
    {
      "cell_type": "code",
      "metadata": {
        "id": "Gaa4N2lQNcrJ"
      },
      "source": [
        "#concat three species into df_species\n",
        "df_species = pd.concat([df_adelie,df_chinstrap,df_gentoo])"
      ],
      "execution_count": null,
      "outputs": []
    },
    {
      "cell_type": "code",
      "metadata": {
        "colab": {
          "base_uri": "https://localhost:8080/",
          "height": 513
        },
        "id": "B6WcoUYTOaPS",
        "outputId": "bfffdc60-ec8f-41d7-d5d3-b48ef576455a"
      },
      "source": [
        "plt.figure(figsize=(8,8))\n",
        "#scatter plot\n",
        "plt.scatter(df_species.culmen_depth_mm, df_species.culmen_length_mm, marker ='o', alpha = 0.5)\n",
        "#add axis and title\n",
        "plt.xlabel('Culmen Depth (mm)')\n",
        "plt.ylabel('Culmen Length (mm)')\n",
        "plt.title('Culmen Depth v.s Culmen Length')\n",
        "#fit a best-fitting line\n",
        "m, b = np.polyfit(df_species.culmen_depth_mm, df_species.culmen_length_mm, 1)\n",
        "plt.plot(df_species.culmen_depth_mm, m*df_species.culmen_depth_mm + b)\n",
        "#add grid\n",
        "plt.grid()\n",
        "plt.show()"
      ],
      "execution_count": null,
      "outputs": [
        {
          "output_type": "display_data",
          "data": {
            "image/png": "[encoded data removed]",
            "text/plain": [
              "<Figure size 576x576 with 1 Axes>"
            ]
          },
          "metadata": {
            "tags": [],
            "needs_background": "light"
          }
        }
      ]
    },
    {
      "cell_type": "markdown",
      "metadata": {
        "id": "x9nkll4s7STD"
      },
      "source": [
        "Instead of having a weak positive correlation between culmen depth and culmen length, we get a weak **negative** correlation between culmen depth and culmen length after omitting the species. \n"
      ]
    },
    {
      "cell_type": "markdown",
      "metadata": {
        "id": "ncsQGcqmPMwN"
      },
      "source": [
        "Calculate the correlation between culmen depth and culmen length (omitting species): "
      ]
    },
    {
      "cell_type": "code",
      "metadata": {
        "colab": {
          "base_uri": "https://localhost:8080/"
        },
        "id": "6SAI66ecPIi9",
        "outputId": "0b6b9e83-32d9-45c5-dc10-dd317c7094e1"
      },
      "source": [
        "corr = round(df_species.culmen_depth_mm.corr(df_species.culmen_length_mm),3)\n",
        "print(corr)"
      ],
      "execution_count": null,
      "outputs": [
        {
          "output_type": "stream",
          "text": [
            "-0.089\n"
          ],
          "name": "stdout"
        }
      ]
    },
    {
      "cell_type": "markdown",
      "metadata": {
        "id": "LaMRYXPvPa5U"
      },
      "source": [
        "It's **a Simpson's Paradox**..."
      ]
    },
    {
      "cell_type": "markdown",
      "metadata": {
        "id": "f0fGOoH5pex_"
      },
      "source": [
        "###flipper length over islands and over species "
      ]
    },
    {
      "cell_type": "markdown",
      "metadata": {
        "id": "ObGMpX14673E"
      },
      "source": [
        "Let's see how many penguins we have on each island!"
      ]
    },
    {
      "cell_type": "code",
      "metadata": {
        "colab": {
          "base_uri": "https://localhost:8080/"
        },
        "id": "PN851UOI63UO",
        "outputId": "06dfb95a-cdda-4936-beaf-c9863335c7ee"
      },
      "source": [
        "print(df.island.unique()) \n",
        "print(df.value_counts(subset = df.island))"
      ],
      "execution_count": null,
      "outputs": [
        {
          "output_type": "stream",
          "text": [
            "['Torgersen' 'Biscoe' 'Dream']\n",
            "island\n",
            "Biscoe       168\n",
            "Dream        124\n",
            "Torgersen     52\n",
            "dtype: int64\n"
          ],
          "name": "stdout"
        }
      ]
    },
    {
      "cell_type": "code",
      "metadata": {
        "id": "MDWHo7YnCg_L"
      },
      "source": [
        "#simple random sampling\n",
        "random.seed(234)\n",
        "df_biscoe = df[df.island == \"Biscoe\"].sample(n = 50)\n",
        "df_dream = df[df.island == \"Dream\"].sample(n = 50)\n",
        "df_torgersen = df[df.island == \"Torgersen\"].sample(n = 50)\n",
        "#concat three islands into a new df\n",
        "df_island = pd.concat([df_biscoe,df_dream,df_torgersen])"
      ],
      "execution_count": null,
      "outputs": []
    },
    {
      "cell_type": "markdown",
      "metadata": {
        "id": "NlLpGDQ6FgQS"
      },
      "source": [
        "flipper length over island"
      ]
    },
    {
      "cell_type": "code",
      "metadata": {
        "colab": {
          "base_uri": "https://localhost:8080/",
          "height": 404
        },
        "id": "q7uh_7rtphuj",
        "outputId": "849b038b-4351-45de-9325-e6613261ee06"
      },
      "source": [
        "import seaborn as sb\n",
        "plt.figure(figsize=(8,6))\n",
        "#Boxplot\n",
        "sb.boxplot(x ='island', y='flipper_length_mm', data= df_island)\n",
        "plt.xlabel('Island')\n",
        "plt.ylabel('Flipper Length (mm)')\n",
        "plt.title('Flipper Length Distribution over Islands')\n",
        "plt.show()"
      ],
      "execution_count": null,
      "outputs": [
        {
          "output_type": "display_data",
          "data": {
            "image/png": "[encoded data removed]",
            "text/plain": [
              "<Figure size 576x432 with 1 Axes>"
            ]
          },
          "metadata": {
            "tags": [],
            "needs_background": "light"
          }
        }
      ]
    },
    {
      "cell_type": "markdown",
      "metadata": {
        "id": "qu-q3m5jEqrv"
      },
      "source": [
        "Penguins on **Biscoe** island have large flipper length than those on Dream island and Torgersen island on average."
      ]
    },
    {
      "cell_type": "markdown",
      "metadata": {
        "id": "UtfDubXJVW9X"
      },
      "source": [
        "flipper length over species"
      ]
    },
    {
      "cell_type": "code",
      "metadata": {
        "colab": {
          "base_uri": "https://localhost:8080/",
          "height": 404
        },
        "id": "_VRu_YfVVdIV",
        "outputId": "783d734b-fbaa-4b3e-d514-b4849b31db0a"
      },
      "source": [
        "plt.figure(figsize=(8,6))\n",
        "#Boxplot\n",
        "sb.boxplot(x ='species', y='flipper_length_mm', data= df_species)\n",
        "plt.xlabel('Species')\n",
        "plt.ylabel('Flipper Length (mm)')\n",
        "plt.title('Flipper Length Distribution over Species')\n",
        "plt.show()"
      ],
      "execution_count": null,
      "outputs": [
        {
          "output_type": "display_data",
          "data": {
            "image/png": "[encoded data removed]",
            "text/plain": [
              "<Figure size 576x432 with 1 Axes>"
            ]
          },
          "metadata": {
            "tags": [],
            "needs_background": "light"
          }
        }
      ]
    },
    {
      "cell_type": "markdown",
      "metadata": {
        "id": "eeUvszDQG7YW"
      },
      "source": [
        "**Gentoo** penguins have a much larger flipper length than Adelie penguins and Chinstrap penguins on average."
      ]
    },
    {
      "cell_type": "markdown",
      "metadata": {
        "id": "fUMS8qLUV_HP"
      },
      "source": [
        "Does Biscoe's larger average flipper length come from the fact that most penguins who live on Biscoe island are Gentoo?"
      ]
    },
    {
      "cell_type": "code",
      "metadata": {
        "colab": {
          "base_uri": "https://localhost:8080/"
        },
        "id": "srplgVkxOQQ6",
        "outputId": "470fe4c7-d91d-472c-d005-5ea998003812"
      },
      "source": [
        "print(\"Biscoe: \", df.value_counts(subset = df_biscoe.species))\n",
        "print(\"Dream: \", df.value_counts(subset = df_dream.species))\n",
        "print(\"Torgersen: \", df.value_counts(subset = df_torgersen.species))"
      ],
      "execution_count": null,
      "outputs": [
        {
          "output_type": "stream",
          "text": [
            "Biscoe:  species\n",
            "Gentoo    34\n",
            "Adelie    16\n",
            "dtype: int64\n",
            "Dream:  species\n",
            "Chinstrap    26\n",
            "Adelie       24\n",
            "dtype: int64\n",
            "Torgersen:  species\n",
            "Adelie    50\n",
            "dtype: int64\n"
          ],
          "name": "stdout"
        }
      ]
    },
    {
      "cell_type": "markdown",
      "metadata": {
        "id": "hpUG-DuMmS6t"
      },
      "source": [
        "50 gentoo penguins in df_species all live in Biscoe island. "
      ]
    },
    {
      "cell_type": "markdown",
      "metadata": {
        "id": "rLDfj2VTsP18"
      },
      "source": [
        "###Body mass and flipper length over sex"
      ]
    },
    {
      "cell_type": "markdown",
      "metadata": {
        "id": "gY6taymXtcWA"
      },
      "source": [
        "Let's see how many penguins we have for each sex"
      ]
    },
    {
      "cell_type": "code",
      "metadata": {
        "colab": {
          "base_uri": "https://localhost:8080/"
        },
        "id": "ol0jxa9ssEwC",
        "outputId": "26a0ef1a-933e-4b31-84e8-5f3cec753586"
      },
      "source": [
        "print(df.sex.unique()) \n",
        "print(df.value_counts(subset = df.sex))"
      ],
      "execution_count": null,
      "outputs": [
        {
          "output_type": "stream",
          "text": [
            "['MALE' 'FEMALE' nan '.']\n",
            "sex\n",
            "MALE      168\n",
            "FEMALE    165\n",
            ".           1\n",
            "dtype: int64\n"
          ],
          "name": "stdout"
        }
      ]
    },
    {
      "cell_type": "code",
      "metadata": {
        "id": "C_UlRoRusKNq"
      },
      "source": [
        "# simple random sampling\n",
        "random.seed(234)\n",
        "df_male = df[df.sex == \"MALE\"].sample(n = 100)\n",
        "df_female = df[df.sex == \"FEMALE\"].sample(n = 100)"
      ],
      "execution_count": null,
      "outputs": []
    },
    {
      "cell_type": "markdown",
      "metadata": {
        "id": "7CR_EKMpvMvE"
      },
      "source": [
        "Sex v.s Body Mass"
      ]
    },
    {
      "cell_type": "code",
      "metadata": {
        "colab": {
          "base_uri": "https://localhost:8080/",
          "height": 404
        },
        "id": "qsHwwB2-sRp0",
        "outputId": "529aa036-c882-4bc2-af6b-2ae82254e24b"
      },
      "source": [
        "plt.figure(figsize=(8,6))\n",
        "#Histogram \n",
        "plt.hist(df_male.body_mass_g, label = \"Male\", bins = 20, alpha = 0.5)\n",
        "plt.hist(df_female.body_mass_g, label = \"Female\", bins = 20, alpha = 0.5)\n",
        "#add axis and title \n",
        "plt.xlabel('Body Mass (g)')\n",
        "plt.ylabel('The Number of Penguins')\n",
        "plt.title('Histogram of Body Mass for Sex')\n",
        "#add legend and grid\n",
        "plt.legend()\n",
        "plt.show()"
      ],
      "execution_count": null,
      "outputs": [
        {
          "output_type": "display_data",
          "data": {
            "image/png": "[encoded data removed]",
            "text/plain": [
              "<Figure size 576x432 with 1 Axes>"
            ]
          },
          "metadata": {
            "tags": [],
            "needs_background": "light"
          }
        }
      ]
    },
    {
      "cell_type": "markdown",
      "metadata": {
        "id": "khTEjIFQS9g5"
      },
      "source": [
        "Calculate the average body mass for male and female\n"
      ]
    },
    {
      "cell_type": "code",
      "metadata": {
        "colab": {
          "base_uri": "https://localhost:8080/"
        },
        "id": "FW6XrmUA5LI1",
        "outputId": "57f0270e-326e-4da4-9196-2e035a2ffc0d"
      },
      "source": [
        "male_mean = df_male.body_mass_g.mean()\n",
        "female_mean = df_female.body_mass_g.mean()\n",
        "print(male_mean,female_mean)"
      ],
      "execution_count": null,
      "outputs": [
        {
          "output_type": "stream",
          "text": [
            "4587.25 3827.75\n"
          ],
          "name": "stdout"
        }
      ]
    },
    {
      "cell_type": "markdown",
      "metadata": {
        "id": "o4zBoGh8vPzx"
      },
      "source": [
        "Sex v.s. Flipper Length"
      ]
    },
    {
      "cell_type": "code",
      "metadata": {
        "colab": {
          "base_uri": "https://localhost:8080/",
          "height": 404
        },
        "id": "AjJ2IjCZvVw8",
        "outputId": "8f3db002-a068-4738-ca4b-90a356c58a17"
      },
      "source": [
        "plt.figure(figsize=(8,6))\n",
        "#Histogram \n",
        "plt.hist(df_male.flipper_length_mm, label = \"Male\", bins = 20, alpha = 0.5)\n",
        "plt.hist(df_female.flipper_length_mm, label = \"Female\", bins = 20, alpha = 0.5)\n",
        "#add axis and title \n",
        "plt.xlabel('Flipper Length (mm)')\n",
        "plt.ylabel('The Number of Penguins')\n",
        "plt.title('Histogram of Flipper Length for Sex')\n",
        "#add legend and grid\n",
        "plt.legend()\n",
        "plt.show()"
      ],
      "execution_count": null,
      "outputs": [
        {
          "output_type": "display_data",
          "data": {
            "image/png": "[encoded data removed]",
            "text/plain": [
              "<Figure size 576x432 with 1 Axes>"
            ]
          },
          "metadata": {
            "tags": [],
            "needs_background": "light"
          }
        }
      ]
    },
    {
      "cell_type": "markdown",
      "metadata": {
        "id": "yR_5rYf1UwHL"
      },
      "source": [
        "Calculate the average flipper length for male and female"
      ]
    },
    {
      "cell_type": "code",
      "metadata": {
        "colab": {
          "base_uri": "https://localhost:8080/"
        },
        "id": "Lzalu4hb5WS3",
        "outputId": "65eb04d1-e880-4986-d895-35a2681499c6"
      },
      "source": [
        "male_mean_2 = df_male.flipper_length_mm.mean()\n",
        "female_mean_2 = df_female.flipper_length_mm.mean()\n",
        "print(male_mean_2,female_mean_2)"
      ],
      "execution_count": null,
      "outputs": [
        {
          "output_type": "stream",
          "text": [
            "204.82 197.04\n"
          ],
          "name": "stdout"
        }
      ]
    },
    {
      "cell_type": "markdown",
      "metadata": {
        "id": "HNfmH-tlvpKk"
      },
      "source": [
        "For both sexes, does flipper length has any correlation with body mass?"
      ]
    },
    {
      "cell_type": "code",
      "metadata": {
        "colab": {
          "base_uri": "https://localhost:8080/",
          "height": 513
        },
        "id": "jixsz6arv6Vg",
        "outputId": "cba90cb7-1cb8-432c-de75-e094b8fce7ae"
      },
      "source": [
        "plt.figure(figsize=(8,8))\n",
        "#scatter plot\n",
        "plt.scatter(df_male.body_mass_g, df_male.flipper_length_mm, color = 'y', marker ='o', alpha = 0.5, label = \"Male\")\n",
        "plt.scatter(df_female.body_mass_g, df_female.flipper_length_mm, color = 'b', marker ='o', alpha = 0.5, label = \"Female\")\n",
        "#add axis and title\n",
        "plt.xlabel('Body Mass (g)')\n",
        "plt.ylabel('Flipper Length (mm)')\n",
        "plt.title('Flipper Length v.s Body Mass For Two Sexes')\n",
        "#fit a best-fitting line\n",
        "m, b = np.polyfit(df_male.body_mass_g, df_male.flipper_length_mm, 1)\n",
        "plt.plot(df_male.body_mass_g, m*df_male.body_mass_g + b, label = \"the regression line for male\")\n",
        "m, b = np.polyfit(df_female.body_mass_g, df_female.flipper_length_mm, 1)\n",
        "plt.plot(df_female.body_mass_g, m*df_female.body_mass_g + b, label = \"the regression line for female\")\n",
        "#add legend and grid\n",
        "plt.grid()\n",
        "plt.legend()\n",
        "plt.show()"
      ],
      "execution_count": null,
      "outputs": [
        {
          "output_type": "display_data",
          "data": {
            "image/png": "[encoded data removed]",
            "text/plain": [
              "<Figure size 576x576 with 1 Axes>"
            ]
          },
          "metadata": {
            "tags": [],
            "needs_background": "light"
          }
        }
      ]
    },
    {
      "cell_type": "markdown",
      "metadata": {
        "id": "872n-5xWxHER"
      },
      "source": [
        "Calculate the correlation between body mass and flipper length for both sexes:"
      ]
    },
    {
      "cell_type": "code",
      "metadata": {
        "colab": {
          "base_uri": "https://localhost:8080/"
        },
        "id": "YzItTPkxxUgj",
        "outputId": "72d47215-1cfe-461b-e59a-e2b36ad3598c"
      },
      "source": [
        "male_corr = round(df_male.body_mass_g.corr(df_male.flipper_length_mm),3)\n",
        "female_corr = round(df_female.body_mass_g.corr(df_female.flipper_length_mm),3)\n",
        "print(male_corr,female_corr) "
      ],
      "execution_count": null,
      "outputs": [
        {
          "output_type": "stream",
          "text": [
            "0.863 0.872\n"
          ],
          "name": "stdout"
        }
      ]
    },
    {
      "cell_type": "markdown",
      "metadata": {
        "id": "D3AYcXY3xw3E"
      },
      "source": [
        "There exists a **strong positive** correlation between body mass and flipper length."
      ]
    }
  ]
}